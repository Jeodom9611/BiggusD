{
  "nbformat": 4,
  "nbformat_minor": 0,
  "metadata": {
    "colab": {
      "name": "mod9.ipynb",
      "provenance": [],
      "authorship_tag": "ABX9TyNNMlanFEntAAXJs25HQ6Uh",
      "include_colab_link": true
    },
    "kernelspec": {
      "name": "python3",
      "display_name": "Python 3"
    },
    "language_info": {
      "name": "python"
    }
  },
  "cells": [
    {
      "cell_type": "markdown",
      "metadata": {
        "id": "view-in-github",
        "colab_type": "text"
      },
      "source": [
        "<a href=\"https://colab.research.google.com/github/Jeodom9611/BiggusD/blob/main/mod9.ipynb\" target=\"_parent\"><img src=\"https://colab.research.google.com/assets/colab-badge.svg\" alt=\"Open In Colab\"/></a>"
      ]
    },
    {
      "cell_type": "code",
      "execution_count": null,
      "metadata": {
        "colab": {
          "base_uri": "https://localhost:8080/"
        },
        "id": "Nz6TJHMdelrc",
        "outputId": "a9b32417-e2a4-4c61-d5db-f844ce3b405d"
      },
      "outputs": [
        {
          "output_type": "stream",
          "name": "stdout",
          "text": [
            "13\n",
            "2\n",
            "6.833333333333333\n"
          ]
        }
      ],
      "source": [
        "#create functions to do max,min,avg,geo mean, and standard dev\n",
        "import numpy as np\n",
        "import math as m\n",
        "def theMax(numbers):\n",
        "  my_max = numbers[0]\n",
        "  for i in numbers:\n",
        "    if my_max < i:\n",
        "      my_max = i\n",
        "  return my_max\n",
        "\n",
        "def theMin(numbers):\n",
        "  my_min = numbers[0]\n",
        "  for i in numbers:\n",
        "    if my_min > i:\n",
        "      my_min = i\n",
        "  return my_min\n",
        "\n",
        "def theAverage(numbers):\n",
        "  total = 0\n",
        "  for i in numbers:\n",
        "    total += i\n",
        "  return total/len(numbers)\n",
        "\n",
        "a = [8,6,2,9,13,3]\n",
        "print(theMax(a))\n",
        "print(theMin(a))\n",
        "print(theAverage(a))\n",
        "\n",
        "def theGeoMean(numbers):\n",
        "  total = 1\n",
        "  for i in numbers:\n",
        "    total *= i\n",
        "  return total**(1/len(numbers))\n",
        "\n",
        "def theStandardDev(numbers):\n",
        "  theAvg = theAverage(numbers)\n",
        "  total = 0\n",
        "  for i in numbers:\n",
        "    total = (i - theAvg)**2\n",
        "  return m.sqrt(total/(len(numbers)-1))\n",
        "\n",
        "a = [8,6,2,9,13,3]\n",
        "print(theMax(a))\n",
        "print(theMin(a))\n",
        "print(theAverage(a))\n",
        "print(theGeoMean(a))\n",
        "print(theStandardDev(a))"
      ]
    },
    {
      "cell_type": "code",
      "source": [
        "import numpy as m\n",
        "# create shape functions\n",
        "def circleArea(radius):\n",
        "  return m.pi*radius**2\n",
        "\n",
        "def triangleArea(base,height):\n",
        "  return base * height / 2\n",
        "\n",
        "def rectangleArea(length,width):\n",
        "  return length * width\n",
        "\n",
        "def squareArea(side):\n",
        "  return side * side\n",
        "\n",
        "def generalArea():\n",
        "  value = input(\"Which would you like to know the area of[circle, square, rectangle, triangle]\")\n",
        "  if value == 'circle':\n",
        "    radius = float(input(\"What is the radius\"))\n",
        "    print(f\"The area is {circleArea(radius)}.\")\n",
        "  elif value == 'square':\n",
        "    side = float(input(\"Whats the measure of the side?\"))\n",
        "    print(f\"The area is {squareArea(side)}.\")\n",
        "  elif value == 'rectangle':\n",
        "    length = float(input(\"What is the length of rectangle?\"))\n",
        "    width = float(input(\"What is the width of rectangle?\"))\n",
        "    print(f\"The area is {rectangleArea(length,width)}.\")\n",
        "  elif value == 'triangle':\n",
        "    base = float(input(\"What is the base of the triangle?\"))\n",
        "    height = float(input(\"What is the height of the triangle?\"))\n",
        "    print(f\"The area is {triangleArea(base,height)}.\")\n",
        "\n",
        "generalArea()\n",
        " "
      ],
      "metadata": {
        "id": "RLX-K7OttOmt",
        "colab": {
          "base_uri": "https://localhost:8080/"
        },
        "outputId": "0159314c-2d4d-48ba-8cdc-8a509dfd4953"
      },
      "execution_count": 13,
      "outputs": [
        {
          "output_type": "stream",
          "name": "stdout",
          "text": [
            "Which would you like to know the area of[circle, square, rectangle, triangle]circle\n",
            "What is the radius6.3\n",
            "The area is 124.68981242097888.\n"
          ]
        }
      ]
    },
    {
      "cell_type": "code",
      "source": [
        "## creating list functions\n",
        "def listDoubling():\n",
        "  x = [1,2,3]\n",
        "  y = [1,2,3]\n",
        "  choice = int(input(\"Would you like it ot be double by way 1 or way 2?\"))\n",
        "  if choice == 1:\n",
        "    print(x + y)\n",
        "  else:\n",
        "    print(np.array(x) + np.array(y))\n",
        "\n",
        "listDoubling()"
      ],
      "metadata": {
        "id": "tzsS36idwHtG"
      },
      "execution_count": null,
      "outputs": []
    },
    {
      "cell_type": "code",
      "source": [
        "#create big list\n",
        "def concatenatePositions(list1,list2):\n",
        "  myBigList = []\n",
        "  for i in range(len(list1)):\n",
        "    myBigList.append(float(str(list1[i])) + float(str(list2[i])))\n",
        "list1 = [1,2,3]\n",
        "list2 = [7,8,9]\n",
        "\n"
      ],
      "metadata": {
        "id": "Mkd1kYsUxL59"
      },
      "execution_count": null,
      "outputs": []
    },
    {
      "cell_type": "code",
      "source": [
        "def isPrime(number):\n",
        "  for i in range(2,number):\n",
        "    if (number%i == 0):\n",
        "      return False\n",
        "  return True\n",
        "\n",
        "def listPrimes(amt):\n",
        "  myList = []\n",
        "  count = 0\n",
        "  checkval = 2\n",
        "  while (count < amt):\n",
        "    if(isPrime(checkval)):\n",
        "      myList.append(checkval)\n",
        "      count += 1\n",
        "    checkval += 1\n",
        "  return myList\n",
        "\n",
        "print(listPrimes(100))\n"
      ],
      "metadata": {
        "colab": {
          "base_uri": "https://localhost:8080/"
        },
        "id": "aYV1jLgEzYjo",
        "outputId": "fe966f0e-4de9-49d7-a704-d1c4c855d066"
      },
      "execution_count": null,
      "outputs": [
        {
          "output_type": "stream",
          "name": "stdout",
          "text": [
            "[2, 3, 5, 7, 11, 13, 17, 19, 23, 29, 31, 37, 41, 43, 47, 53, 59, 61, 67, 71, 73, 79, 83, 89, 97, 101, 103, 107, 109, 113, 127, 131, 137, 139, 149, 151, 157, 163, 167, 173, 179, 181, 191, 193, 197, 199, 211, 223, 227, 229, 233, 239, 241, 251, 257, 263, 269, 271, 277, 281, 283, 293, 307, 311, 313, 317, 331, 337, 347, 349, 353, 359, 367, 373, 379, 383, 389, 397, 401, 409, 419, 421, 431, 433, 439, 443, 449, 457, 461, 463, 467, 479, 487, 491, 499, 503, 509, 521, 523, 541]\n"
          ]
        }
      ]
    },
    {
      "cell_type": "code",
      "source": [
        "def calculation(one,two):\n",
        "  return one * two,one / two\n",
        "\n",
        "myVal = calculation(9,2)\n",
        "print(myVal[0])\n",
        "print(myVal[1])"
      ],
      "metadata": {
        "id": "1Ym9uT_11HYV"
      },
      "execution_count": null,
      "outputs": []
    },
    {
      "cell_type": "code",
      "source": [
        "myList = []\n",
        "for i in range(1000):\n",
        "  if (i%3 == 0) or (i%5 == 0):\n",
        "    myList.append(i)\n",
        "\n",
        "total = 0\n",
        "for i in myList:\n",
        "  total = total + i\n",
        "\n",
        "print(total)"
      ],
      "metadata": {
        "colab": {
          "base_uri": "https://localhost:8080/"
        },
        "id": "g8M8uH0_1rBa",
        "outputId": "52bc7575-8bb4-40a1-ceae-2b0a06dbfd91"
      },
      "execution_count": null,
      "outputs": [
        {
          "output_type": "stream",
          "name": "stdout",
          "text": [
            "233168\n"
          ]
        }
      ]
    },
    {
      "cell_type": "code",
      "source": [
        "bound = 500\n",
        "num1 = 1\n",
        "num2 = 1\n",
        "num3 = num1 + num2\n",
        "total = 0\n",
        "\n",
        "while num3 < bound:\n",
        "  num3 = num1 + num2\n",
        "  if num3%2 == 0 and num3 < bound:\n",
        "    total += num3\n",
        "  num1 = num2\n",
        "  num2 = num3\n",
        "\n",
        "print(total)"
      ],
      "metadata": {
        "colab": {
          "base_uri": "https://localhost:8080/"
        },
        "id": "nQZKrpY92yKQ",
        "outputId": "04fd8bb7-a7a3-4689-9cf2-66c7665ba248"
      },
      "execution_count": null,
      "outputs": [
        {
          "output_type": "stream",
          "name": "stdout",
          "text": [
            "188\n"
          ]
        }
      ]
    }
  ]
}