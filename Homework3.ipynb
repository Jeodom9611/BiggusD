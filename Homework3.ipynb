{
  "nbformat": 4,
  "nbformat_minor": 0,
  "metadata": {
    "colab": {
      "name": "Homework3.ipynb",
      "provenance": [],
      "authorship_tag": "ABX9TyM+IyKUASOCB9G6Nk6LDLTr",
      "include_colab_link": true
    },
    "kernelspec": {
      "name": "python3",
      "display_name": "Python 3"
    },
    "language_info": {
      "name": "python"
    }
  },
  "cells": [
    {
      "cell_type": "markdown",
      "metadata": {
        "id": "view-in-github",
        "colab_type": "text"
      },
      "source": [
        "<a href=\"https://colab.research.google.com/github/Jeodom9611/BiggusD/blob/main/Homework3.ipynb\" target=\"_parent\"><img src=\"https://colab.research.google.com/assets/colab-badge.svg\" alt=\"Open In Colab\"/></a>"
      ]
    },
    {
      "cell_type": "code",
      "execution_count": 15,
      "metadata": {
        "colab": {
          "base_uri": "https://localhost:8080/"
        },
        "id": "dyzD-2hVRB24",
        "outputId": "813a8d65-c60c-45b0-95b0-a29beccde385"
      },
      "outputs": [
        {
          "output_type": "stream",
          "name": "stdout",
          "text": [
            "What is the overall value of the account?100000\n",
            "What is the interest rate?.11\n",
            "How amny years have you had this investment?30\n",
            "current value of your investment is $4,368.28\n"
          ]
        }
      ],
      "source": [
        "#Get the final amount in investment account\n",
        "FV = float(input(\"What is the overall value of the account?\"))\n",
        "#Collect the interest rate and if presented a whole number divide by 100\n",
        "rate = float(input(\"What is the interest rate?\"))\n",
        "if(rate > 1):\n",
        "  rate /= 100\n",
        "#How long has this money been invested\n",
        "time = int(input(\"How amny years have you had this investment?\"))\n",
        "#formula to find the startinng value of the account using time rate and final value\n",
        "PV = FV / (1 + rate)**time \n",
        "print(f\"current value of your investment is ${PV:,.2f}\")\n"
      ]
    },
    {
      "cell_type": "markdown",
      "source": [
        "#HW wk 3\n",
        "This is an **Investment Calculator**. If you put in the amount invested, the rate , and the time peruiod then it will ouptut the return for every five years of that time period.\n",
        "The formula use dit:\n",
        "> $Future Value = Principal * (1 + rate) ^{time}$"
      ],
      "metadata": {
        "id": "Af8jQHrGRDfP"
      }
    },
    {
      "cell_type": "code",
      "source": [
        "#gather the amount invested\n",
        "principal = float(input(\"What is the amount per month you will be investing?\"))\n",
        "principal *= 12\n",
        "#find out what the rate is and do data validaiton to ensure it is a percent\n",
        "rate = float(input(\"What rate do you expect to earn yearly?\"))\n",
        "if(rate > 1):\n",
        "  rate /= 100\n",
        "#find out how long this will be for\n",
        "time = int(input(\"How many years do you expect to hold this investment?\"))\n",
        "\n",
        "#calculate the return for every five years\n",
        "for i in range(0,time + 1,5):\n",
        "  FV = principal*(1 + rate)**i\n",
        "  print(f'{i} \\t${FV:.2f}')"
      ],
      "metadata": {
        "colab": {
          "base_uri": "https://localhost:8080/"
        },
        "id": "S1PWrcjARGFz",
        "outputId": "1e5968ce-86f9-4535-8001-95df59301029"
      },
      "execution_count": 14,
      "outputs": [
        {
          "output_type": "stream",
          "name": "stdout",
          "text": [
            "What is the amount per month you will be investing?300\n",
            "What rate do you expect to earn yearly?.05\n",
            "How many years do you expect to hold this investment?30\n",
            "0 \t$3600.00\n",
            "5 \t$4594.61\n",
            "10 \t$5864.02\n",
            "15 \t$7484.14\n",
            "20 \t$9551.87\n",
            "25 \t$12190.88\n",
            "30 \t$15558.99\n"
          ]
        }
      ]
    },
    {
      "cell_type": "markdown",
      "source": [
        ""
      ],
      "metadata": {
        "id": "cdTq8Gc4RCr2"
      }
    }
  ]
}