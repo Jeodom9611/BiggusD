{
  "nbformat": 4,
  "nbformat_minor": 0,
  "metadata": {
    "colab": {
      "name": "ifstatements.ipynb",
      "provenance": []
    },
    "kernelspec": {
      "name": "python3",
      "display_name": "Python 3"
    },
    "language_info": {
      "name": "python"
    }
  },
  "cells": [
    {
      "cell_type": "code",
      "execution_count": 7,
      "metadata": {
        "colab": {
          "base_uri": "https://localhost:8080/"
        },
        "id": "Ent7QP3iV2lT",
        "outputId": "420ddb5e-c47c-45d1-cfa4-2b139b22eb6c"
      },
      "outputs": [
        {
          "output_type": "stream",
          "name": "stdout",
          "text": [
            "How much would you like?73\n",
            "The discount is 30% the total for the purchase is $71.97\n"
          ]
        }
      ],
      "source": [
        "amount = int(input(\"How much would you like?\"))\n",
        "discount = 0\n",
        "\n",
        "if (amount < 10):\n",
        "  print(\"There is no discount\")\n",
        "elif(amount >= 10 and amount <= 19):\n",
        "  discount = .1\n",
        "elif (amount >= 20 and amount <= 49):\n",
        "  discount = .2\n",
        "elif (amount >= 50 and amount <= 99):\n",
        "  discount = .3\n",
        "elif (amount >  100):\n",
        "  discount = .4\n",
        "\n",
        "print(f\"The discount is {discount * 100:.0f}% the total for the purchase is ${amount * .99 - discount:.2f}\")\n",
        "\n"
      ]
    },
    {
      "cell_type": "code",
      "source": [
        "weight = float(input(\"How much the does the package weigh?\"))\n",
        "rate = 0\n",
        "if (weight <= 2):\n",
        "  rate = 1.50\n",
        "elif (weight > 2 and weight <= 6):\n",
        "  rate = 3.00\n",
        "elif (weight > 6 and weight <= 10):\n",
        "  rate = 4.00\n",
        "elif (weight > 10):\n",
        "  rate = 4.75\n",
        "print(f\"The charge for shipping is ${rate:.2f}\")\n"
      ],
      "metadata": {
        "colab": {
          "base_uri": "https://localhost:8080/"
        },
        "id": "0f0E4ALpW9kw",
        "outputId": "b833e32d-c3ed-4969-98c5-7110ac6941f3"
      },
      "execution_count": null,
      "outputs": [
        {
          "output_type": "stream",
          "name": "stdout",
          "text": [
            "How much the does the package weigh?3\n",
            "The charge for shipping is $3.00\n"
          ]
        }
      ]
    }
  ]
}