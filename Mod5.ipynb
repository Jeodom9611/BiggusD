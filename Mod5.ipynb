{
  "nbformat": 4,
  "nbformat_minor": 0,
  "metadata": {
    "colab": {
      "name": "Mod5.ipynb",
      "provenance": [],
      "collapsed_sections": [],
      "authorship_tag": "ABX9TyOB6gKGaMclpVj1Ntcn/yDm",
      "include_colab_link": true
    },
    "kernelspec": {
      "name": "python3",
      "display_name": "Python 3"
    },
    "language_info": {
      "name": "python"
    }
  },
  "cells": [
    {
      "cell_type": "markdown",
      "metadata": {
        "id": "view-in-github",
        "colab_type": "text"
      },
      "source": [
        "<a href=\"https://colab.research.google.com/github/Jeodom9611/BiggusD/blob/main/Mod5.ipynb\" target=\"_parent\"><img src=\"https://colab.research.google.com/assets/colab-badge.svg\" alt=\"Open In Colab\"/></a>"
      ]
    },
    {
      "cell_type": "code",
      "source": [
        "#check that the age given is a number and enforce this\n",
        "age = input(\"Please give me a number for your age\\t\")\n",
        "chances = 0\n",
        "while not(age.isdigit()):\n",
        "  age = input(\"Please give a number\\t\")\n",
        "\n",
        "#converet to int\n",
        "age = int(age)\n",
        "#Check that name is a bunch of letters and not numbers and enforce this\n",
        "name = input(\"Please give me your name\\t\")\n",
        "while not(name.isalpha()):\n",
        "  name = input(\"Please give me your name\\t\")\n",
        "    "
      ],
      "metadata": {
        "colab": {
          "base_uri": "https://localhost:8080/"
        },
        "id": "mq0yQKH3dsoJ",
        "outputId": "a8db6fa7-a44d-4cf9-fe0c-241cb7a85ee8"
      },
      "execution_count": null,
      "outputs": [
        {
          "name": "stdout",
          "output_type": "stream",
          "text": [
            "Please give me a number for your age\t6\n",
            "Please give me your name\tjeo\n"
          ]
        }
      ]
    },
    {
      "cell_type": "code",
      "source": [
        "for number in range(3,1000,10):\n",
        "  print(number, end = \" | \")"
      ],
      "metadata": {
        "id": "d1QLcDdworSO"
      },
      "execution_count": null,
      "outputs": []
    },
    {
      "cell_type": "code",
      "source": [
        "for x in range(1,100001):\n",
        "  total = 0\n",
        "  holder = x\n",
        "\n",
        "  while(holder > 0):\n",
        "    total += holder%10\n",
        "    holder = holder // 10\n",
        "  if(total == 17):\n",
        "    print(x,end=\" \")"
      ],
      "metadata": {
        "id": "Ibypg9XVozx6"
      },
      "execution_count": null,
      "outputs": []
    },
    {
      "cell_type": "code",
      "source": [
        "for i in range(1,10001):\n",
        "  total = 0\n",
        "  hasThree = False\n",
        "  holder = x = i\n",
        "\n",
        "  while(holder > 0):\n",
        "    if(holder%10 == 3):\n",
        "      hasThree = True\n",
        "      break\n",
        "    holder = holder // 10\n",
        "\n",
        "  while(hasThree and x > 0):\n",
        "    total += x%10\n",
        "    x = x // 10\n",
        "  \n",
        "  if(total == 23):\n",
        "    print(i,end=\" \")\n",
        "  \n"
      ],
      "metadata": {
        "id": "LF8qCylZpHLw"
      },
      "execution_count": null,
      "outputs": []
    },
    {
      "cell_type": "code",
      "source": [
        "for i in range(100,1,-1):\n",
        "  print(i,end=\" | \")"
      ],
      "metadata": {
        "id": "k8qtpBckpRXk"
      },
      "execution_count": null,
      "outputs": []
    },
    {
      "cell_type": "code",
      "source": [
        "for i in range(100,1001):\n",
        "  isPrime = True\n",
        "\n",
        "  start = 2\n",
        "  while(start < i):\n",
        "    if(i % start == 0):\n",
        "      isPrime = False\n",
        "      break\n",
        "    start += 2\n",
        "  if(isPrime):\n",
        "    print(i,end=\" | \")"
      ],
      "metadata": {
        "id": "orreOeDfpURk"
      },
      "execution_count": null,
      "outputs": []
    }
  ]
}