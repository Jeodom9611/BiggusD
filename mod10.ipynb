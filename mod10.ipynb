{
  "nbformat": 4,
  "nbformat_minor": 0,
  "metadata": {
    "colab": {
      "name": "mod10.ipynb",
      "provenance": [],
      "authorship_tag": "ABX9TyNJW53R+BFo+uVeBOIzWYB7",
      "include_colab_link": true
    },
    "kernelspec": {
      "name": "python3",
      "display_name": "Python 3"
    },
    "language_info": {
      "name": "python"
    }
  },
  "cells": [
    {
      "cell_type": "markdown",
      "metadata": {
        "id": "view-in-github",
        "colab_type": "text"
      },
      "source": [
        "<a href=\"https://colab.research.google.com/github/Jeodom9611/BiggusD/blob/main/mod10.ipynb\" target=\"_parent\"><img src=\"https://colab.research.google.com/assets/colab-badge.svg\" alt=\"Open In Colab\"/></a>"
      ]
    },
    {
      "cell_type": "markdown",
      "source": [
        "<strong>scikit learn</strong> library is used for predictive data analysis\n",
        "\n",
        "<strong>pandas</strong> is a software library written for the Python programming language for data manipulation and analysis. In particular, it offers data structures and operations for manipulating numerical tables \n",
        "\n",
        "<strong>TensorFlow</strong> is a free and open-source software library for machine learning and artificial intelligence. \n",
        "\n",
        "<strong>Numpy</strong> is a library consisting of multidimensional array objects and a collection of routines for processing those arrays.\n",
        "\n",
        "<strong>Tkinter</strong> is a Python binding to the Tk GUI toolkit. It is the standard Python interface to the Tk GUI toolkit, and is Python's de facto standard GUI. \n",
        "\n",
        "#Difference between Lists and Tuples\n",
        "The major difference between tuples and lists is that a list is mutable, whereas a tuple is immutable. This means that a list can be changed, but a tuple cannot.\n",
        "\n",
        "#Data Science\n",
        "Data science is an interdisciplinary field that uses scientific methods, processes, algorithms and systems to extract knowledge and insights from noisy, structured and unstructured data, and apply knowledge and actionable insights from data across a broad range of application domains."
      ],
      "metadata": {
        "id": "DeglRIwYwPuJ"
      }
    }
  ]
}